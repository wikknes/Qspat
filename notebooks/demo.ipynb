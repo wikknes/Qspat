{
 "cells": [
  {
   "cell_type": "markdown",
   "metadata": {},
   "source": [
    "# Quantum Spatial Transcriptomics Framework Demo\n",
    "\n",
    "This notebook demonstrates the Quantum Spatial Transcriptomics framework for predicting spatial hotspots of gene expression using variational quantum algorithms."
   ]
  },
  {
   "cell_type": "code",
   "execution_count": null,
   "metadata": {},
   "outputs": [],
   "source": [
    "import sys\n",
    "import os\n",
    "import numpy as np\n",
    "import pandas as pd\n",
    "import matplotlib.pyplot as plt\n",
    "import seaborn as sns\n",
    "\n",
    "# Add the src directory to the path\n",
    "sys.path.append('../src')\n",
    "\n",
    "# Import our modules\n",
    "import preprocess\n",
    "import encoding\n",
    "import circuits\n",
    "from run_vqe import SpatialVQE\n",
    "from run_qaoa import SpatialQAOA\n",
    "import visualize"
   ]
  },
  {
   "cell_type": "markdown",
   "metadata": {},
   "source": [
    "## 1. Generate Synthetic Data\n",
    "\n",
    "For demonstration purposes, we'll create a synthetic spatial transcriptomics dataset to test our quantum algorithms."
   ]
  },
  {
   "cell_type": "code",
   "execution_count": null,
   "metadata": {},
   "outputs": [],
   "source": [
    "# Create data directory if it doesn't exist\n",
    "if not os.path.exists('../data'):\n",
    "    os.makedirs('../data')\n",
    "\n",
    "# Set random seed for reproducibility\n",
    "np.random.seed(42)\n",
    "\n",
    "# Create a 10x10 grid of spots (100 spots total)\n",
    "n_spots = 100\n",
    "grid_size = int(np.sqrt(n_spots))\n",
    "x = np.linspace(0, 1, grid_size)\n",
    "y = np.linspace(0, 1, grid_size)\n",
    "X, Y = np.meshgrid(x, y)\n",
    "coords = np.column_stack((X.flatten(), Y.flatten()))\n",
    "\n",
    "# Generate gene expression data for 5 genes\n",
    "n_genes = 5\n",
    "gene_names = [f'Gene{i+1}' for i in range(n_genes)]\n",
    "\n",
    "# Create spot IDs\n",
    "spot_ids = [f'spot_{i+1:03d}' for i in range(n_spots)]\n",
    "\n",
    "# Create different spatial patterns for each gene\n",
    "expression_data = np.zeros((n_spots, n_genes))\n",
    "\n",
    "# Gene1: Gaussian peak in the center\n",
    "center_x, center_y = 0.5, 0.5\n",
    "expression_data[:, 0] = np.exp(-10 * ((coords[:, 0] - center_x)**2 + (coords[:, 1] - center_y)**2))\n",
    "\n",
    "# Gene2: Gradient from left to right\n",
    "expression_data[:, 1] = coords[:, 0]\n",
    "\n",
    "# Gene3: Circular pattern\n",
    "radius = 0.3\n",
    "dist_from_center = np.sqrt((coords[:, 0] - 0.5)**2 + (coords[:, 1] - 0.5)**2)\n",
    "expression_data[:, 2] = np.exp(-30 * (dist_from_center - radius)**2)\n",
    "\n",
    "# Gene4: Two hotspots\n",
    "hotspot1 = np.exp(-15 * ((coords[:, 0] - 0.2)**2 + (coords[:, 1] - 0.2)**2))\n",
    "hotspot2 = np.exp(-15 * ((coords[:, 0] - 0.8)**2 + (coords[:, 1] - 0.8)**2))\n",
    "expression_data[:, 3] = hotspot1 + hotspot2\n",
    "\n",
    "# Gene5: Random pattern with spatial correlation\n",
    "from scipy.ndimage import gaussian_filter\n",
    "random_expr = np.random.rand(grid_size, grid_size)\n",
    "smoothed_expr = gaussian_filter(random_expr, sigma=1)\n",
    "expression_data[:, 4] = smoothed_expr.flatten()\n",
    "\n",
    "# Scale expression values to be more realistic\n",
    "expression_data = np.round(expression_data * 100)\n",
    "\n",
    "# Create DataFrame\n",
    "df = pd.DataFrame(expression_data, columns=gene_names, index=spot_ids)\n",
    "df['x'] = coords[:, 0]\n",
    "df['y'] = coords[:, 1]\n",
    "\n",
    "# Save to CSV\n",
    "df.to_csv('../data/synthetic_data.csv')\n",
    "\n",
    "print(f\"Created synthetic dataset with {n_spots} spots and {n_genes} genes\")\n",
    "print(f\"Data saved to '../data/synthetic_data.csv'\")\n",
    "df.head()"
   ]
  },
  {
   "cell_type": "markdown",
   "metadata": {},
   "source": [
    "## 2. Visualize Synthetic Data\n",
    "\n",
    "Let's visualize our synthetic data to better understand the spatial patterns of gene expression."
   ]
  },
  {
   "cell_type": "code",
   "execution_count": null,
   "metadata": {},
   "outputs": [],
   "source": [
    "# Create a figure to visualize all genes\n",
    "fig, axes = plt.subplots(1, 5, figsize=(20, 4))\n",
    "\n",
    "for i, gene in enumerate(gene_names):\n",
    "    ax = axes[i]\n",
    "    sc = ax.scatter(df['x'], df['y'], c=df[gene], cmap='viridis', s=100, edgecolor='k')\n",
    "    ax.set_title(gene)\n",
    "    plt.colorbar(sc, ax=ax)\n",
    "    ax.set_xlabel('X')\n",
    "    ax.set_ylabel('Y')\n",
    "\n",
    "plt.tight_layout()\n",
    "plt.savefig('../data/synthetic_data_visualization.png', dpi=150, bbox_inches='tight')\n",
    "plt.show()"
   ]
  },
  {
   "cell_type": "markdown",
   "metadata": {},
   "source": [
    "## 3. Preprocessing\n",
    "\n",
    "Now let's use our preprocessing module to prepare the data for quantum analysis."
   ]
  },
  {
   "cell_type": "code",
   "execution_count": null,
   "metadata": {},
   "outputs": [],
   "source": [
    "# Select a specific gene to analyze\n",
    "target_gene = 'Gene1'  # Gaussian peak pattern\n",
    "\n",
    "# Preprocess the data\n",
    "expr_vector, coord_map, n_qubits, index_map = preprocess.process_data(\n",
    "    '../data/synthetic_data.csv',\n",
    "    target_gene=target_gene,\n",
    "    max_spots=16  # Downsample to fit qubit budget\n",
    ")\n",
    "\n",
    "print(f\"Preprocessed data: vector length {len(expr_vector)}, using {n_qubits} qubits\")\n",
    "print(f\"Selected coordinates:\")\n",
    "for i, (x, y) in enumerate(coord_map[:len(expr_vector)]):\n",
    "    print(f\"  Spot {i}: ({x:.2f}, {y:.2f}) - Expression: {expr_vector[i]:.4f}\")"
   ]
  },
  {
   "cell_type": "markdown",
   "metadata": {},
   "source": [
    "## 4. Quantum Encoding\n",
    "\n",
    "Let's explore the different encoding methods for our data."
   ]
  },
  {
   "cell_type": "code",
   "execution_count": null,
   "metadata": {},
   "outputs": [],
   "source": [
    "# Normalize vector for amplitude encoding\n",
    "norm_vector = expr_vector / np.linalg.norm(expr_vector)\n",
    "\n",
    "# Create circuits with different encodings\n",
    "amp_circuit = encoding.amplitude_encoding(norm_vector, n_qubits)\n",
    "angle_circuit = encoding.angle_encoding(expr_vector)\n",
    "binary_circuit = encoding.binary_encoding(expr_vector, threshold=0.5)\n",
    "\n",
    "# Print circuits\n",
    "print(\"Amplitude Encoding:\")\n",
    "print(amp_circuit)\n",
    "\n",
    "print(\"\\nAngle Encoding:\")\n",
    "print(angle_circuit)\n",
    "\n",
    "print(\"\\nBinary Encoding:\")\n",
    "print(binary_circuit)"
   ]
  },
  {
   "cell_type": "markdown",
   "metadata": {},
   "source": [
    "## 5. Create the Hamiltonian\n",
    "\n",
    "Now we'll create the Hamiltonian operator for our expression values."
   ]
  },
  {
   "cell_type": "code",
   "execution_count": null,
   "metadata": {},
   "outputs": [],
   "source": [
    "# Create Hamiltonian for finding maximum expression location\n",
    "hamiltonian = encoding.hamiltonian_encoding(expr_vector)\n",
    "print(\"Hamiltonian for maximum expression:\")\n",
    "print(hamiltonian)\n",
    "\n",
    "# Calculate spatial weights for region detection\n",
    "from scipy.spatial.distance import pdist, squareform\n",
    "distances = squareform(pdist(coord_map[:len(expr_vector)]))\n",
    "scale = 0.2 * np.mean(distances)\n",
    "spatial_weights = np.exp(-distances / scale)\n",
    "np.fill_diagonal(spatial_weights, 0)\n",
    "\n",
    "# Create Hamiltonian for region detection\n",
    "region_hamiltonian = encoding.hamiltonian_for_region_detection(\n",
    "    expr_vector, spatial_weights, alpha=1.0, beta=0.1\n",
    ")\n",
    "print(\"\\nHamiltonian for region detection:\")\n",
    "print(region_hamiltonian)"
   ]
  },
  {
   "cell_type": "markdown",
   "metadata": {},
   "source": [
    "## 6. VQE for Maximum Expression Prediction\n",
    "\n",
    "Now we'll use the Variational Quantum Eigensolver (VQE) to find the location with maximum gene expression."
   ]
  },
  {
   "cell_type": "code",
   "execution_count": null,
   "metadata": {},
   "outputs": [],
   "source": [
    "# Create VQE solver\n",
    "vqe_solver = SpatialVQE(\n",
    "    '../data/synthetic_data.csv',\n",
    "    target_gene=target_gene,\n",
    "    max_spots=16,\n",
    "    optimizer='cobyla',\n",
    "    ansatz_depth=2\n",
    ")\n",
    "\n",
    "# Skip preprocessing since we already did it\n",
    "vqe_solver.expr_vector = expr_vector\n",
    "vqe_solver.coord_map = coord_map\n",
    "vqe_solver.n_qubits = n_qubits\n",
    "vqe_solver.index_map = index_map\n",
    "\n",
    "# Setup and run\n",
    "vqe_solver.setup()\n",
    "result = vqe_solver.run()\n",
    "\n",
    "# Analyze results\n",
    "max_idx, max_coords, probabilities = vqe_solver.analyze_results()\n",
    "print(f\"Maximum expression found at index {max_idx}\")\n",
    "if max_coords is not None:\n",
    "    print(f\"Coordinates: ({max_coords[0]:.2f}, {max_coords[1]:.2f})\")\n",
    "    \n",
    "# Visualize\n",
    "fig = vqe_solver.visualize(probabilities, save_path='../data/vqe_result.png')"
   ]
  },
  {
   "cell_type": "markdown",
   "metadata": {},
   "source": [
    "## 7. QAOA for Region Detection\n",
    "\n",
    "Next, we'll use the Quantum Approximate Optimization Algorithm (QAOA) to identify regions of high gene expression."
   ]
  },
  {
   "cell_type": "code",
   "execution_count": null,
   "metadata": {},
   "outputs": [],
   "source": [
    "# Create QAOA solver\n",
    "qaoa_solver = SpatialQAOA(\n",
    "    '../data/synthetic_data.csv',\n",
    "    target_gene=target_gene,\n",
    "    max_spots=16,\n",
    "    optimizer='cobyla',\n",
    "    p_steps=1,\n",
    "    alpha=1.0,\n",
    "    beta=0.1\n",
    ")\n",
    "\n",
    "# Skip preprocessing since we already did it\n",
    "qaoa_solver.expr_vector = expr_vector\n",
    "qaoa_solver.coord_map = coord_map\n",
    "qaoa_solver.n_qubits = n_qubits\n",
    "qaoa_solver.index_map = index_map\n",
    "\n",
    "# Calculate spatial weights\n",
    "qaoa_solver._calculate_spatial_weights()\n",
    "\n",
    "# Setup and run\n",
    "qaoa_solver.setup()\n",
    "result = qaoa_solver.run()\n",
    "\n",
    "# Analyze results\n",
    "region_mask, region_indices, probabilities = qaoa_solver.analyze_results(threshold=0.4)\n",
    "print(f\"Identified region with {np.sum(region_mask)} spots\")\n",
    "\n",
    "# Visualize\n",
    "fig = qaoa_solver.visualize(region_mask, probabilities=probabilities, save_path='../data/qaoa_result.png')"
   ]
  },
  {
   "cell_type": "markdown",
   "metadata": {},
   "source": [
    "## 8. Multi-Panel Visualization\n",
    "\n",
    "Finally, let's create a comprehensive visualization of all our results."
   ]
  },
  {
   "cell_type": "code",
   "execution_count": null,
   "metadata": {},
   "outputs": [],
   "source": [
    "# Create multi-panel visualization\n",
    "fig = visualize.create_multi_panel_visualization(\n",
    "    coord_map[:len(expr_vector)], \n",
    "    expr_vector, \n",
    "    probabilities, \n",
    "    region_mask\n",
    ")\n",
    "\n",
    "plt.suptitle(f\"Quantum Analysis of {target_gene} Expression\", fontsize=16)\n",
    "plt.tight_layout(rect=[0, 0, 1, 0.96])\n",
    "plt.savefig('../data/complete_analysis.png', dpi=200, bbox_inches='tight')\n",
    "plt.show()"
   ]
  },
  {
   "cell_type": "markdown",
   "metadata": {},
   "source": [
    "## 9. Save Results\n",
    "\n",
    "Let's save all our results to a CSV file for further analysis."
   ]
  },
  {
   "cell_type": "code",
   "execution_count": null,
   "metadata": {},
   "outputs": [],
   "source": [
    "# Save results to CSV\n",
    "results_df = visualize.save_results_to_csv(\n",
    "    '../data/quantum_analysis_results.csv',\n",
    "    coord_map[:len(expr_vector)],\n",
    "    expr_vector,\n",
    "    probabilities,\n",
    "    region_mask,\n",
    "    index_map\n",
    ")\n",
    "\n",
    "# Display results\n",
    "results_df.head()"
   ]
  },
  {
   "cell_type": "markdown",
   "metadata": {},
   "source": [
    "## 10. Conclusion\n",
    "\n",
    "In this notebook, we've demonstrated how to use our Quantum Spatial Transcriptomics framework to:\n",
    "\n",
    "1. Preprocess spatial transcriptomics data\n",
    "2. Encode the data into quantum circuits\n",
    "3. Create Hamiltonians that capture the gene expression patterns\n",
    "4. Use VQE to find the location with maximum gene expression\n",
    "5. Use QAOA to identify regions of high gene expression\n",
    "6. Visualize and analyze the results\n",
    "\n",
    "This framework provides a foundation for applying quantum algorithms to spatial transcriptomics data analysis, with potential for extension to more complex scenarios as quantum hardware advances."
   ]
  }
 ],
 "metadata": {
  "kernelspec": {
   "display_name": "Python 3",
   "language": "python",
   "name": "python3"
  },
  "language_info": {
   "codemirror_mode": {
    "name": "ipython",
    "version": 3
   },
   "file_extension": ".py",
   "mimetype": "text/x-python",
   "name": "python",
   "nbconvert_exporter": "python",
   "pygments_lexer": "ipython3",
   "version": "3.8.10"
  }
 },
 "nbformat": 4,
 "nbformat_minor": 4
}